{
  "nbformat": 4,
  "nbformat_minor": 0,
  "metadata": {
    "colab": {
      "provenance": [],
      "authorship_tag": "ABX9TyNJ26WKfDqKKshrMqMs/fIL",
      "include_colab_link": true
    },
    "kernelspec": {
      "name": "python3",
      "display_name": "Python 3"
    },
    "language_info": {
      "name": "python"
    }
  },
  "cells": [
    {
      "cell_type": "markdown",
      "metadata": {
        "id": "view-in-github",
        "colab_type": "text"
      },
      "source": [
        "<a href=\"https://colab.research.google.com/github/dp-93/Random-Forest-Model-MNIST-/blob/main/MNIST.ipynb\" target=\"_parent\"><img src=\"https://colab.research.google.com/assets/colab-badge.svg\" alt=\"Open In Colab\"/></a>"
      ]
    },
    {
      "cell_type": "code",
      "execution_count": 1,
      "metadata": {
        "colab": {
          "base_uri": "https://localhost:8080/",
          "height": 556
        },
        "id": "yXArphgAHopa",
        "outputId": "642d0ed2-6f1c-42e2-fd2b-3700629edde9"
      },
      "outputs": [
        {
          "output_type": "stream",
          "name": "stdout",
          "text": [
            "Downloading data from https://storage.googleapis.com/tensorflow/tf-keras-datasets/mnist.npz\n",
            "\u001b[1m11490434/11490434\u001b[0m \u001b[32m━━━━━━━━━━━━━━━━━━━━\u001b[0m\u001b[37m\u001b[0m \u001b[1m0s\u001b[0m 0us/step\n",
            "Training data shape: (60000, 784)\n",
            "Test data shape: (10000, 784)\n",
            "\n",
            "Example image from the dataset:\n"
          ]
        },
        {
          "output_type": "display_data",
          "data": {
            "text/plain": [
              "<Figure size 640x480 with 1 Axes>"
            ],
            "image/png": "[encoded data removed]"
          },
          "metadata": {}
        }
      ],
      "source": [
        "import tensorflow as tf\n",
        "import matplotlib.pyplot as plt\n",
        "\n",
        "# Load the MNIST dataset from Keras\n",
        "(X_train, y_train), (X_test, y_test) = tf.keras.datasets.mnist.load_data()\n",
        "\n",
        "# --- Prepare the Image Data ---\n",
        "\n",
        "# 1. Reshape the data from 28x28 images to 1D arrays of 784 pixels\n",
        "X_train_flat = X_train.reshape(len(X_train), 28*28)\n",
        "X_test_flat = X_test.reshape(len(X_test), 28*28)\n",
        "\n",
        "# 2. Normalize the pixel values from 0-255 to 0-1\n",
        "X_train_norm = X_train_flat / 255.0\n",
        "X_test_norm = X_test_flat / 255.0\n",
        "\n",
        "print(f\"Training data shape: {X_train_norm.shape}\")\n",
        "print(f\"Test data shape: {X_test_norm.shape}\")\n",
        "\n",
        "\n",
        "# --- Let's look at one of the images ---\n",
        "print(\"\\nExample image from the dataset:\")\n",
        "plt.imshow(X_train[0], cmap='gray') # Display the first image\n",
        "plt.title(f\"The label for this image is: {y_train[0]}\")\n",
        "plt.show()"
      ]
    },
    {
      "cell_type": "code",
      "source": [
        "from sklearn.ensemble import RandomForestClassifier\n",
        "from sklearn.metrics import accuracy_score\n",
        "\n",
        "# 1. Create the Random Forest model\n",
        "model = RandomForestClassifier(n_estimators=100, random_state=42)\n",
        "\n",
        "# 2. Train the model on the prepared training data\n",
        "print(\"Training the model... This might take a minute.\")\n",
        "model.fit(X_train_norm, y_train)\n",
        "print(\"Training complete!\")\n",
        "\n",
        "# 3. Make predictions on the test data\n",
        "y_pred = model.predict(X_test_norm)\n",
        "\n",
        "# 4. Calculate the accuracy\n",
        "accuracy = accuracy_score(y_test, y_pred)\n",
        "\n",
        "print(f\"\\nAccuracy of the model on the MNIST test set: {accuracy * 100:.2f}%\")"
      ],
      "metadata": {
        "colab": {
          "base_uri": "https://localhost:8080/"
        },
        "id": "uUv-5R2DIY0I",
        "outputId": "c5a6b4ca-d788-49dd-c809-5fea0faa051b"
      },
      "execution_count": 2,
      "outputs": [
        {
          "output_type": "stream",
          "name": "stdout",
          "text": [
            "Training the model... This might take a minute.\n",
            "Training complete!\n",
            "\n",
            "Accuracy of the model on the MNIST test set: 97.04%\n"
          ]
        }
      ]
    }
  ]
}